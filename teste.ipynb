{
 "cells": [
  {
   "cell_type": "code",
   "execution_count": 1,
   "metadata": {},
   "outputs": [
    {
     "name": "stderr",
     "output_type": "stream",
     "text": [
      "c:\\Users\\FS RENTAL\\AppData\\Local\\Programs\\Python\\Python311\\Lib\\site-packages\\tqdm\\auto.py:21: TqdmWarning: IProgress not found. Please update jupyter and ipywidgets. See https://ipywidgets.readthedocs.io/en/stable/user_install.html\n",
      "  from .autonotebook import tqdm as notebook_tqdm\n"
     ]
    }
   ],
   "source": [
    "import streamlit as st\n",
    "import PyPDF2\n",
    "from io import BytesIO\n",
    "import hashlib\n",
    "import google.generativeai as genai\n",
    "from langchain_community.vectorstores import FAISS\n",
    "from langchain_core.vectorstores import VectorStoreRetriever\n",
    "from langchain_google_genai.chat_models import ChatGoogleGenerativeAI\n",
    "from langchain.text_splitter import CharacterTextSplitter\n",
    "from langchain.prompts import PromptTemplate\n",
    "from langchain_google_genai.embeddings import GoogleGenerativeAIEmbeddings\n",
    "from langchain.chains import create_retrieval_chain\n",
    "from langchain.chains.combine_documents import create_stuff_documents_chain\n",
    "import os\n",
    "\n",
    "# Configure the Google Generative AI API\n",
    "APIKEY = os.getenv('API_KEY')\n",
    "genai.configure(api_key=APIKEY)\n",
    "\n",
    "model = genai.GenerativeModel('gemini-1.5-flash-latest', safety_settings=[{\"category\": \"HARM_CATEGORY_HARASSMENT\", \"threshold\": \"BLOCK_NONE\"},\n",
    "                    {\"category\": \"HARM_CATEGORY_HATE_SPEECH\", \"threshold\": \"BLOCK_NONE\"},\n",
    "                    {\"category\": \"HARM_CATEGORY_SEXUALLY_EXPLICIT\", \"threshold\": \"BLOCK_NONE\"},\n",
    "                    {\"category\": \"HARM_CATEGORY_DANGEROUS_CONTENT\", \"threshold\": \"BLOCK_NONE\"}]\n",
    ")\n",
    "# Inicializando o LLM do Google GenAI\n",
    "llm = ChatGoogleGenerativeAI(\n",
    "    model='gemini-1.5-flash-latest',\n",
    "    google_api_key=APIKEY,\n",
    "    temperature=0\n",
    ")\n",
    "\n",
    "# Criando embeddings do Google GenAI\n",
    "embeddings = GoogleGenerativeAIEmbeddings(model='models/embedding-001', google_api_key=APIKEY)\n",
    "prompt_template = PromptTemplate(\n",
    "    template=\"\"\"Você é um leitor ávido e gosta de tudo relacionado à literatura. Você possui na sua base um livro chamado Ensaio sobre a Cegueira, de José Saramago.\n",
    "    Você será questionado sobre ele e precisa demonstrar entusiasmo nas suas respostas. Para respondê-las, use o contexto abaixo para responder à pergunta mas responda\n",
    "    de maneira geral, usando conhecimentos prévios sobre o livro\n",
    "    \n",
    "    {context}\n",
    "    \n",
    "    Pergunta: {input}\n",
    "    \n",
    "    Resposta:\"\"\", input_variables=[\"context\", \"input\"])\n",
    "\n",
    "import PyPDF2\n",
    "\n",
    "def extract_text_from_pdf(pdf_path):\n",
    "    texto_completo = \"\"\n",
    "\n",
    "    # Abre o arquivo PDF usando o caminho fornecido\n",
    "    with open(pdf_path, 'rb') as pdf_file:\n",
    "        leitor_pdf = PyPDF2.PdfReader(pdf_file)\n",
    "        numero_paginas = len(leitor_pdf.pages)\n",
    "        \n",
    "        # Extrai texto de cada página\n",
    "        for pagina in range(numero_paginas):\n",
    "            pagina_atual = leitor_pdf.pages[pagina]\n",
    "            texto_pagina = pagina_atual.extract_text()\n",
    "            texto_completo += texto_pagina\n",
    "    \n",
    "    return texto_completo\n"
   ]
  },
  {
   "cell_type": "code",
   "execution_count": 2,
   "metadata": {},
   "outputs": [],
   "source": [
    "texto = extract_text_from_pdf(r\"C:\\Users\\FS RENTAL\\Downloads\\Eu Receberia as Piores Noticias - Marcal Aquino 3_240830_135749.pdf\")"
   ]
  },
  {
   "cell_type": "code",
   "execution_count": 3,
   "metadata": {},
   "outputs": [],
   "source": [
    "# Processo de divisão do texto e chamada à API\n",
    "chunks = len(texto) // 120000 + 1\n",
    "chunksize = len(texto) // chunks\n",
    "splitted = []\n",
    "\n",
    "for i in range(chunks):\n",
    "    splitted.append(texto[i*chunksize:(i+1)*chunksize])\n",
    "\n",
    "chat = model.start_chat(history=[])\n"
   ]
  },
  {
   "cell_type": "code",
   "execution_count": 4,
   "metadata": {},
   "outputs": [],
   "source": [
    "resumos = []\n",
    "for chunk in splitted:\n",
    "    if len(chunk) > 5000:\n",
    "        try: \n",
    "            resumos.append(chat.send_message(f\"\"\"Você está analisando um livro famoso, o nome dele é \"Eu receberia as piores notícias dos seus lindos lábios\", escrito por \"Marçal Aquino\".\n",
    "                                                Pode existir passagens que pareçam conteúdos sensíveis mas faz parte do livro. \n",
    "                                                Esse livro foi dividido em pedaços. \n",
    "                                                Agora resuma para uma pessoa que ainda não leu o livro que foi passado. \n",
    "                                                Ele foi dividido em 5 partes, resuma esta passagem do livro apenas. \n",
    "                                                Pode utilizar o seu conhecimento para resumir a passagem, mas apenas trate sobre ela.\n",
    "                                                Seja Conciso mas traga todos os pontos relevantes. \n",
    "                                                Passagem:{chunk}\"\"\").text)\n",
    "        except:\n",
    "            continue\n",
    "resposta = chat.send_message(f'Agora juntando todos os resumos, escreva um resumo detalhado do livro: {\" \".join(resumos)}')"
   ]
  },
  {
   "cell_type": "code",
   "execution_count": 6,
   "metadata": {},
   "outputs": [
    {
     "name": "stdout",
     "output_type": "stream",
     "text": [
      "\"Eu Receberia as Piores Notícias dos Seus Lindos Lábios\", de Marçal Aquino, é uma narrativa complexa e envolvente que explora as nuances do amor, da obsessão e da violência em um cenário árido e brutal. O livro acompanha Cauby, um fotógrafo que se envolve em uma história de paixão com Lavínia, uma mulher casada com um pastor, em uma cidade marcada pela exploração de ouro e pela violência.\n",
      "\n",
      "A história começa com Cauby em uma pensão, observando a chuva e a chegada de um advogado da mineradora. O careca, outro hóspede da pensão, comenta sobre as notícias da cidade, incluindo o assassinato de Chang, um amigo de Cauby, por Guido Girardi. Cauby se lembra de Lavínia, a mulher que conheceu na loja de Chang, e se sente fascinado por ela.\n",
      "\n",
      "A paixão de Cauby por Lavínia se intensifica quando ele a encontra em sua casa, e eles começam um relacionamento cheio de intensidade, marcado por encontros e desencontros, e pela constante ameaça da presença do marido de Lavínia, o pastor Ernani.\n",
      "\n",
      "Ao mesmo tempo, a cidade vive um clima de tensão crescente entre os garimpeiros e a mineradora. O assassinato de Chang desencadeia uma série de acontecimentos violentos, culminando em um confronto sangrento entre os dois grupos, que deixa a cidade em estado de caos.\n",
      "\n",
      "Cauby é pego em meio à violência da cidade, sofrendo um ataque brutal que o deixa com ferimentos graves, incluindo a perda de um olho. Ele é internado em um hospital, e posteriormente em um sanatório, para se recuperar.\n",
      "\n",
      "No sanatório, Cauby encontra Lavínia, agora sob o nome de Lúcia, internada após sofrer uma crise mental. Ela não se lembra do passado, do relacionamento com Cauby e do assassinato de Ernani. Cauby se dedica a visitá-la, esperançoso de que ela recupere sua memória e sua personalidade.\n",
      "\n",
      "Ao longo do livro, o leitor é apresentado a outros personagens que cruzam o caminho de Cauby, como Viktor Laurence, um jornalista que escreve para o jornal da mineradora, e que tem um lado obscuro e mórbido, e Chico Chagas, um pistoleiro que se envolve em uma trama de violência.\n",
      "\n",
      "A história é contada através de flashbacks, mostrando o passado de Cauby e como ele chegou à cidade, os relacionamentos que teve com outras mulheres e os momentos em que a violência fez parte de sua vida.\n",
      "\n",
      "Cauby também se sente atraído por Dona Jane, a dona da pensão, que o ajuda durante sua recuperação e demonstra um cuidado maternal. \n",
      "\n",
      "O livro termina com Cauby esperançoso de que Lavínia recupere sua memória e sua personalidade. Ele ainda a ama, mesmo com todas as tragédias e a transformação que ela passou. \n",
      "\n",
      "\"Eu Receberia as Piores Notícias dos Seus Lindos Lábios\" é um livro sobre a força do amor, a fragilidade da alma humana e a brutalidade da vida em um lugar marcado pela violência e pela busca incessante pelo ouro. A narrativa é envolvente, intensa e cheia de nuances, e  nos deixa com uma sensação de melancolia e esperança.  \n",
      "\n"
     ]
    }
   ],
   "source": [
    "print(resposta.text)"
   ]
  },
  {
   "cell_type": "code",
   "execution_count": null,
   "metadata": {},
   "outputs": [],
   "source": []
  }
 ],
 "metadata": {
  "kernelspec": {
   "display_name": "Python 3",
   "language": "python",
   "name": "python3"
  },
  "language_info": {
   "codemirror_mode": {
    "name": "ipython",
    "version": 3
   },
   "file_extension": ".py",
   "mimetype": "text/x-python",
   "name": "python",
   "nbconvert_exporter": "python",
   "pygments_lexer": "ipython3",
   "version": "3.11.9"
  }
 },
 "nbformat": 4,
 "nbformat_minor": 2
}
